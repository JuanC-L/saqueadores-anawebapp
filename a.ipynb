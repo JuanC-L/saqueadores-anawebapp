{
 "cells": [
  {
   "cell_type": "code",
   "execution_count": 2,
   "metadata": {},
   "outputs": [
    {
     "name": "stdout",
     "output_type": "stream",
     "text": [
      "Collecting st-gsheets-connectionNote: you may need to restart the kernel to use updated packages.\n"
     ]
    },
    {
     "name": "stderr",
     "output_type": "stream",
     "text": [
      "WARNING: Ignoring invalid distribution -rotobuf (c:\\users\\juanl\\anaconda3\\lib\\site-packages)\n",
      "WARNING: Ignoring invalid distribution -illow (c:\\users\\juanl\\anaconda3\\lib\\site-packages)\n",
      "WARNING: Ignoring invalid distribution -rotobuf (c:\\users\\juanl\\anaconda3\\lib\\site-packages)\n",
      "WARNING: Ignoring invalid distribution -illow (c:\\users\\juanl\\anaconda3\\lib\\site-packages)\n",
      "ERROR: Cannot install st-gsheets-connection==0.0.3 and st-gsheets-connection==0.0.4 because these package versions have conflicting dependencies.\n",
      "ERROR: ResolutionImpossible: for help visit https://pip.pypa.io/en/latest/user_guide/#fixing-conflicting-dependencies\n",
      "WARNING: Ignoring invalid distribution -rotobuf (c:\\users\\juanl\\anaconda3\\lib\\site-packages)\n",
      "WARNING: Ignoring invalid distribution -illow (c:\\users\\juanl\\anaconda3\\lib\\site-packages)\n",
      "WARNING: Ignoring invalid distribution -rotobuf (c:\\users\\juanl\\anaconda3\\lib\\site-packages)\n",
      "WARNING: Ignoring invalid distribution -illow (c:\\users\\juanl\\anaconda3\\lib\\site-packages)\n",
      "WARNING: Ignoring invalid distribution -rotobuf (c:\\users\\juanl\\anaconda3\\lib\\site-packages)\n",
      "WARNING: Ignoring invalid distribution -illow (c:\\users\\juanl\\anaconda3\\lib\\site-packages)\n"
     ]
    },
    {
     "name": "stdout",
     "output_type": "stream",
     "text": [
      "\n",
      "  Downloading st_gsheets_connection-0.0.4-py3-none-any.whl (8.9 kB)\n",
      "Collecting gspread<6,>=5.8.0\n",
      "  Downloading gspread-5.12.4-py3-none-any.whl (49 kB)\n",
      "Collecting sql-metadata>=2.7.0\n",
      "  Downloading sql_metadata-2.12.0-py3-none-any.whl (22 kB)\n",
      "Collecting gspread-formatting>=1.1.2\n",
      "  Downloading gspread_formatting-1.2.0-py2.py3-none-any.whl (22 kB)\n",
      "Collecting pandas<2,>=1.3.0\n",
      "  Downloading pandas-1.5.3-cp39-cp39-win_amd64.whl (10.9 MB)\n",
      "Collecting duckdb>=0.8.1\n",
      "  Downloading duckdb-1.0.0-cp39-cp39-win_amd64.whl (10.0 MB)\n",
      "Collecting gspread-pandas>=3.2.2\n",
      "  Downloading gspread_pandas-3.3.0-py2.py3-none-any.whl (27 kB)\n",
      "Requirement already satisfied: validators>=0.22.0 in c:\\users\\juanl\\anaconda3\\lib\\site-packages (from st-gsheets-connection) (0.22.0)\n",
      "Collecting gspread-dataframe>=3.3.0\n",
      "  Downloading gspread_dataframe-4.0.0-py2.py3-none-any.whl (9.0 kB)\n",
      "Collecting st-gsheets-connection\n",
      "  Downloading st_gsheets_connection-0.0.3-py3-none-any.whl (8.8 kB)\n",
      "Collecting gspread>=5.8.0\n",
      "  Downloading gspread-6.1.2-py3-none-any.whl (57 kB)\n",
      "\n",
      "The conflict is caused by:\n",
      "    st-gsheets-connection 0.0.4 depends on streamlit>=1.22.0\n",
      "    st-gsheets-connection 0.0.3 depends on streamlit>=1.22.0\n",
      "\n",
      "To fix this you could try to:\n",
      "1. loosen the range of package versions you've specified\n",
      "2. remove package versions to allow pip attempt to solve the dependency conflict\n",
      "\n"
     ]
    }
   ],
   "source": [
    "pip install st-gsheets-connection"
   ]
  },
  {
   "cell_type": "code",
   "execution_count": null,
   "metadata": {},
   "outputs": [],
   "source": []
  }
 ],
 "metadata": {
  "kernelspec": {
   "display_name": "base",
   "language": "python",
   "name": "python3"
  },
  "language_info": {
   "codemirror_mode": {
    "name": "ipython",
    "version": 3
   },
   "file_extension": ".py",
   "mimetype": "text/x-python",
   "name": "python",
   "nbconvert_exporter": "python",
   "pygments_lexer": "ipython3",
   "version": "3.9.7"
  }
 },
 "nbformat": 4,
 "nbformat_minor": 2
}
